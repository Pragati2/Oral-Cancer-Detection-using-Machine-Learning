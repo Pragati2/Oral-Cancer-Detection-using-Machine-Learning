{
 "cells": [
  {
   "cell_type": "code",
   "execution_count": 3,
   "metadata": {},
   "outputs": [
    {
     "name": "stdout",
     "output_type": "stream",
     "text": [
      "Train on 2037 samples, validate on 227 samples\n",
      "Epoch 1/10\n",
      "2037/2037 [==============================] - 189s 93ms/sample - loss: 0.6945 - accuracy: 0.5081 - val_loss: 0.6953 - val_accuracy: 0.4493\n",
      "Epoch 2/10\n",
      "2037/2037 [==============================] - 193s 95ms/sample - loss: 0.6939 - accuracy: 0.5101 - val_loss: 0.6944 - val_accuracy: 0.4493\n",
      "Epoch 3/10\n",
      "2037/2037 [==============================] - 191s 94ms/sample - loss: 0.6824 - accuracy: 0.5523 - val_loss: 0.6851 - val_accuracy: 0.6035\n",
      "Epoch 4/10\n",
      "2037/2037 [==============================] - 190s 93ms/sample - loss: 0.6603 - accuracy: 0.6009 - val_loss: 0.6826 - val_accuracy: 0.5242\n",
      "Epoch 5/10\n",
      "2037/2037 [==============================] - 190s 94ms/sample - loss: 0.6427 - accuracy: 0.6308 - val_loss: 0.6616 - val_accuracy: 0.6476\n",
      "Epoch 6/10\n",
      "2037/2037 [==============================] - 190s 93ms/sample - loss: 0.6281 - accuracy: 0.6534 - val_loss: 0.6111 - val_accuracy: 0.6520\n",
      "Epoch 7/10\n",
      "2037/2037 [==============================] - 190s 93ms/sample - loss: 0.5990 - accuracy: 0.6789 - val_loss: 0.6507 - val_accuracy: 0.6167\n",
      "Epoch 8/10\n",
      "2037/2037 [==============================] - 190s 93ms/sample - loss: 0.5877 - accuracy: 0.6868 - val_loss: 0.5666 - val_accuracy: 0.6916\n",
      "Epoch 9/10\n",
      "2037/2037 [==============================] - 189s 93ms/sample - loss: 0.5513 - accuracy: 0.7069 - val_loss: 0.5944 - val_accuracy: 0.6784\n",
      "Epoch 10/10\n",
      "2037/2037 [==============================] - 191s 94ms/sample - loss: 0.5081 - accuracy: 0.7383 - val_loss: 0.6280 - val_accuracy: 0.6828\n",
      "INFO:tensorflow:Assets written to: oralcancer-CNN.model\\assets\n"
     ]
    }
   ],
   "source": [
    "import tensorflow as tf\n",
    "import numpy as np\n",
    "from tensorflow.keras.models import Sequential\n",
    "from tensorflow.keras.layers import Dense,Dropout,Activation,Flatten,Conv2D,MaxPooling2D\n",
    "import pickle\n",
    "\n",
    "x=pickle.load(open(\"x.pickle\",\"rb\"))\n",
    "Y=pickle.load(open(\"Y.pickle\",\"rb\"))\n",
    "\n",
    "x=x/255.0\n",
    "model = Sequential()\n",
    "\n",
    "model.add(Conv2D(128,(3,3) ,input_shape=x.shape[1:]))\n",
    "model.add(Activation(\"relu\"))\n",
    "model.add(MaxPooling2D(pool_size=(2,2)))\n",
    "\n",
    "model.add(Conv2D(128,(3,3)))\n",
    "model.add(Activation(\"relu\"))\n",
    "model.add(MaxPooling2D(pool_size=(2,2)))\n",
    "\n",
    "model.add(Conv2D(128,(3,3)))\n",
    "model.add(Activation(\"relu\"))\n",
    "model.add(MaxPooling2D(pool_size=(2,2)))\n",
    "\n",
    "model.add(Conv2D(128,(3,3)))\n",
    "model.add(Activation(\"relu\"))\n",
    "model.add(MaxPooling2D(pool_size=(2,2)))\n",
    "\n",
    "model.add(Flatten())\n",
    "model.add(Dense(128))\n",
    "model.add(Activation(\"relu\"))\n",
    "\n",
    "model.add(Dense(128))\n",
    "model.add(Activation(\"relu\"))\n",
    "\n",
    "model.add(Dense(2))\n",
    "model.add(Activation('softmax'))\n",
    "\n",
    "model.compile(loss=\"sparse_categorical_crossentropy\",\n",
    "              optimizer=\"adam\",\n",
    "             metrics=['accuracy'])\n",
    "IMG_SIZE = 128\n",
    "\n",
    "x = np.array(x).reshape(-1, IMG_SIZE, IMG_SIZE, 1)\n",
    "\n",
    "Y = np.array(Y)\n",
    "\n",
    "model.fit(x, Y, batch_size=16,epochs=10,validation_split=0.1)   \n",
    "\n",
    "model.save('oralcancer-CNN.model')\n"
   ]
  },
  {
   "cell_type": "code",
   "execution_count": null,
   "metadata": {},
   "outputs": [],
   "source": []
  },
  {
   "cell_type": "code",
   "execution_count": null,
   "metadata": {},
   "outputs": [],
   "source": []
  },
  {
   "cell_type": "code",
   "execution_count": null,
   "metadata": {},
   "outputs": [],
   "source": []
  }
 ],
 "metadata": {
  "kernelspec": {
   "display_name": "Python 3",
   "language": "python",
   "name": "python3"
  },
  "language_info": {
   "codemirror_mode": {
    "name": "ipython",
    "version": 3
   },
   "file_extension": ".py",
   "mimetype": "text/x-python",
   "name": "python",
   "nbconvert_exporter": "python",
   "pygments_lexer": "ipython3",
   "version": "3.7.4"
  }
 },
 "nbformat": 4,
 "nbformat_minor": 2
}
